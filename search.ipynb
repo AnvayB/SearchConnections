{
 "cells": [
  {
   "cell_type": "code",
   "execution_count": 14,
   "metadata": {},
   "outputs": [],
   "source": [
    "\n",
    "import pandas as pd"
   ]
  },
  {
   "cell_type": "code",
   "execution_count": null,
   "metadata": {},
   "outputs": [
    {
     "ename": "NameError",
     "evalue": "name 'pd' is not defined",
     "output_type": "error",
     "traceback": [
      "\u001b[0;31m---------------------------------------------------------------------------\u001b[0m",
      "\u001b[0;31mNameError\u001b[0m                                 Traceback (most recent call last)",
      "Cell \u001b[0;32mIn[1], line 1\u001b[0m\n\u001b[0;32m----> 1\u001b[0m anvay \u001b[38;5;241m=\u001b[39m pd\u001b[38;5;241m.\u001b[39mread_csv(\u001b[38;5;124m'\u001b[39m\u001b[38;5;124m./files/anvay-connections.csv\u001b[39m\u001b[38;5;124m'\u001b[39m)\n\u001b[1;32m      2\u001b[0m anil_connections \u001b[38;5;241m=\u001b[39m pd\u001b[38;5;241m.\u001b[39mread_csv(\u001b[38;5;124m'\u001b[39m\u001b[38;5;124m./files/anil-connections.csv\u001b[39m\u001b[38;5;124m'\u001b[39m)\n\u001b[1;32m      4\u001b[0m \u001b[38;5;66;03m# Drop email columns from both dataframes\u001b[39;00m\n",
      "\u001b[0;31mNameError\u001b[0m: name 'pd' is not defined"
     ]
    }
   ],
   "source": [
    "anvay = pd.read_csv('./files/anvay-connections.csv')\n",
    "anil = pd.read_csv('./files/anil-connections.csv')\n",
    "bilwa = pd.read_csv('./files/bilwa-connections.csv')\n",
    "\n",
    "# Drop email columns from both dataframes\n",
    "anvay = anvay.drop('Email Address', axis=1)\n",
    "anil = anil.drop('Email Address', axis=1)\n",
    "bilwa = bilwa.drop('Email Address', axis=1)\n",
    "\n",
    "# Save the cleaned dataframes to new CSV files\n",
    "anvay.to_csv('./files/anvay-connections.csv', index=False)\n",
    "anil.to_csv('./files/anil-connections.csv', index=False) \n",
    "bilwa.to_csv('./files/bilwa-connections.csv', index=False)\n",
    "\n",
    "\n",
    "\n",
    "\n",
    "\n",
    "\n",
    "\n"
   ]
  },
  {
   "cell_type": "code",
   "execution_count": 30,
   "metadata": {},
   "outputs": [],
   "source": [
    "def search_company(company_names):\n",
    "    # Convert single string to list if needed\n",
    "    if isinstance(company_names, str):\n",
    "        company_names = [company_names]\n",
    "    \n",
    "    for company_name in company_names:\n",
    "        print(f\"\\n{'='*50}\")\n",
    "        print(f\"Searching for: {company_name}\")\n",
    "        print(f\"{'='*50}\")\n",
    "        \n",
    "        anvay_matches = anvay[anvay['Company'].str.lower() == company_name.lower()]\n",
    "        anil_matches = anil_connections[anil_connections['Company'].str.lower() == company_name.lower()]\n",
    "        \n",
    "        print('Matches in anvay-connections.csv:')\n",
    "        if len(anvay_matches) > 0:\n",
    "            print(anvay_matches.drop('Connected On', axis=1).to_string(index=False))\n",
    "        else:\n",
    "            print(\"No matches found\")\n",
    "            \n",
    "        print('\\nMatches in anil-connections.csv:')\n",
    "        if len(anil_matches) > 0:\n",
    "            # Filter for Closeness of 1.0 or 2.0 and reorder columns\n",
    "            filtered_matches = anil_matches[anil_matches['Closeness'].isin([1.0, 2.0])]\n",
    "            cols = ['First Name', 'Last Name', 'URL', 'Company', 'Position', 'Closeness']\n",
    "            if len(filtered_matches) > 0:\n",
    "                print(filtered_matches[cols].to_string(index=False))\n",
    "            else:\n",
    "                print(\"No matches found with Closeness 1.0 or 2.0\")\n",
    "        else:\n",
    "            print(\"No matches found\")\n",
    "\n",
    "# Example usage:\n",
    "# search_company(['Amazon', 'Google', 'Microsoft'])\n",
    "# or\n",
    "# search_company('Amazon')  # still works for single company"
   ]
  },
  {
   "cell_type": "code",
   "execution_count": 32,
   "metadata": {},
   "outputs": [
    {
     "name": "stdout",
     "output_type": "stream",
     "text": [
      "\n",
      "==================================================\n",
      "Searching for: Amazon\n",
      "==================================================\n",
      "Matches in anvay-connections.csv:\n",
      "First Name Last Name                                                URL Company                             Position\n",
      "    Shagun   Roperia          https://www.linkedin.com/in/shagunroperia  Amazon Software Development Engineer Intern\n",
      "    Dhaval   Trivedi https://www.linkedin.com/in/dhaval-trivedi-9955186  Amazon                 Frontend Engineer II\n",
      "  Shashank   Sridhar        https://www.linkedin.com/in/shashanksridhar  Amazon      Software Development Engineer I\n",
      "    Andrew Tedijanto       https://www.linkedin.com/in/andrew-tedijanto  Amazon        Software Developer Engineer I\n",
      "   Annabel    Kusumo          https://www.linkedin.com/in/annabelkusumo  Amazon                 Frontend Engineer II\n",
      "   Ruopeng      Zhou             https://www.linkedin.com/in/paulzhourp  Amazon                    Software Engineer\n",
      "   Gaurang    Mhatre          https://www.linkedin.com/in/gaurangmhatre  Amazon        Software Development Engineer\n",
      "        Vy     Duong            https://www.linkedin.com/in/vyduong0538  Amazon                    Software Engineer\n",
      "      Ali     Harvey   https://www.linkedin.com/in/ali-harvey-0020691bb  Amazon            Technical Program Manager\n",
      "      Neil Sadhukhan         https://www.linkedin.com/in/neil-sadhukhan  Amazon                    Software Engineer\n",
      "    Nathan      Hadi            https://www.linkedin.com/in/nathan-hadi  Amazon        Software Development Engineer\n",
      "    Vishnu     Kumar               https://www.linkedin.com/in/vvkumar1  Amazon            Machine Learning Engineer\n",
      "\n",
      "Matches in anil-connections.csv:\n",
      "No matches found with Closeness 1.0 or 2.0\n",
      "\n",
      "==================================================\n",
      "Searching for: Google\n",
      "==================================================\n",
      "Matches in anvay-connections.csv:\n",
      "   First Name Last Name                                                 URL Company              Position\n",
      "      Krishna     Kadam           https://www.linkedin.com/in/krishna-kadam  Google Software Engineer III\n",
      "        Anaya     Mehta             https://www.linkedin.com/in/anaya-mehta  Google     Software Engineer\n",
      "Nhien (Ricky)       Lam               https://www.linkedin.com/in/nhien-lam  Google     Software Engineer\n",
      "        Habib  Sorathia           https://www.linkedin.com/in/habibsorathia  Google     Software Engineer\n",
      "  Shethabhish     Naidu             https://www.linkedin.com/in/shethabhish  Google Software Engineer III\n",
      "        Sivam Agarwalla         https://www.linkedin.com/in/sivam-agarwalla  Google     Software Engineer\n",
      "        Jerry       Lee           https://www.linkedin.com/in/jerry-lee1999  Google     Software Engineer\n",
      "        Nidhi   Bangari https://www.linkedin.com/in/nidhi-bangari-25410b16b  Google     Software Engineer\n",
      "\n",
      "Matches in anil-connections.csv:\n",
      "First Name Last Name                                            URL Company                                                               Position  Closeness\n",
      "     Simmi     Kokal         https://www.linkedin.com/in/simmikokal  Google                                 Director, Technical Program Management        1.0\n",
      "     Bijoy      Bose https://www.linkedin.com/in/bijoy-bose-6557ab1  Google                                          Director - Silicon Validation        1.0\n",
      "   Sushrut Karanjkar   https://www.linkedin.com/in/sushrutkaranjkar  Google Director Of Engineering, Google Search | Google Images & Videos Search        1.0\n",
      "    Willem    Schrup             https://www.linkedin.com/in/schrup  Google                                                        Account Manager        1.0\n",
      "\n",
      "==================================================\n",
      "Searching for: Paypal\n",
      "==================================================\n",
      "Matches in anvay-connections.csv:\n",
      "First Name Last Name                                       URL Company                 Position\n",
      "     Soham  Ashodiya https://www.linkedin.com/in/sohamashodiya  PayPal    Software Engineer III\n",
      "     Sayan  Uttarkar https://www.linkedin.com/in/sayanuttarkar  PayPal Business Systems Analyst\n",
      "\n",
      "Matches in anil-connections.csv:\n",
      "No matches found\n"
     ]
    }
   ],
   "source": [
    "search_company(['Amazon', 'Google', 'Paypal'])"
   ]
  },
  {
   "cell_type": "code",
   "execution_count": null,
   "metadata": {},
   "outputs": [],
   "source": [
    "# Drop Email Address column from all CSVs\n",
    "anvay = anvay.drop('Email Address', axis=1, errors='ignore')\n",
    "anil_connections = anil_connections.drop('Email Address', axis=1, errors='ignore')\n",
    "bilwa = bilwa.drop('Email Address', axis=1, errors='ignore')\n"
   ]
  }
 ],
 "metadata": {
  "kernelspec": {
   "display_name": "base",
   "language": "python",
   "name": "python3"
  },
  "language_info": {
   "codemirror_mode": {
    "name": "ipython",
    "version": 3
   },
   "file_extension": ".py",
   "mimetype": "text/x-python",
   "name": "python",
   "nbconvert_exporter": "python",
   "pygments_lexer": "ipython3",
   "version": "3.12.4"
  }
 },
 "nbformat": 4,
 "nbformat_minor": 2
}
